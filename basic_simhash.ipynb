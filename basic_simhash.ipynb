{
 "cells": [
  {
   "cell_type": "code",
   "execution_count": 1,
   "id": "3fed383f-a075-4022-91af-5eea748e3b7c",
   "metadata": {},
   "outputs": [],
   "source": [
    "from simhash import Simhash\n",
    "import re"
   ]
  },
  {
   "cell_type": "code",
   "execution_count": 2,
   "id": "b4bf1f49-b131-40a3-8147-25b49f4789c1",
   "metadata": {},
   "outputs": [],
   "source": [
    "sen1 = \"A wiki is a collaborative site where users can add, edit or remove content.\""
   ]
  },
  {
   "cell_type": "code",
   "execution_count": 3,
   "id": "83cc557a-7f0a-4398-8b3d-79b130c168fd",
   "metadata": {},
   "outputs": [],
   "source": [
    "sen2 = \"A wiki is a shared site where users can add, edit, or remove content.\""
   ]
  },
  {
   "cell_type": "code",
   "execution_count": 4,
   "id": "8d2acfb2-3f53-41e4-a15c-499d73541d0c",
   "metadata": {},
   "outputs": [],
   "source": [
    "sen3 = \"Simhash and Minhash are both techniques for generating a fixed-length “fingerprint” or “hash” of a variable-length input, such as a document or a piece of text.\""
   ]
  },
  {
   "cell_type": "markdown",
   "id": "edbe0b79-b554-4e2c-8da9-24be858e319e",
   "metadata": {},
   "source": [
    "### SimHash"
   ]
  },
  {
   "cell_type": "markdown",
   "id": "19532a5a-b620-47cb-9a27-5a78c52ff6f0",
   "metadata": {},
   "source": [
    "##### f is size in bits of hash. f must be multiple of 8."
   ]
  },
  {
   "cell_type": "code",
   "execution_count": 50,
   "id": "dc293b73-c0f3-44cf-8b16-8410110ed12f",
   "metadata": {},
   "outputs": [],
   "source": [
    "simhash_value_1 = Simhash(sen1, f=128)"
   ]
  },
  {
   "cell_type": "code",
   "execution_count": 51,
   "id": "f60d1a1f-7bb1-4dcb-a9a2-4c5458fc90df",
   "metadata": {},
   "outputs": [
    {
     "data": {
      "text/plain": [
       "180469907034376394028338557376951711349"
      ]
     },
     "execution_count": 51,
     "metadata": {},
     "output_type": "execute_result"
    }
   ],
   "source": [
    "simhash_value_1.value"
   ]
  },
  {
   "cell_type": "code",
   "execution_count": 52,
   "id": "4bc4e8ef-58d8-4c03-a198-e1a022f01ed9",
   "metadata": {},
   "outputs": [],
   "source": [
    "simhash_value_2 = Simhash(sen2, f=128)"
   ]
  },
  {
   "cell_type": "code",
   "execution_count": 53,
   "id": "b336d52d-fede-45a6-929e-89a0c03dd4b2",
   "metadata": {},
   "outputs": [
    {
     "data": {
      "text/plain": [
       "201399076816213946397552994571884574323"
      ]
     },
     "execution_count": 53,
     "metadata": {},
     "output_type": "execute_result"
    }
   ],
   "source": [
    "simhash_value_2.value"
   ]
  },
  {
   "cell_type": "code",
   "execution_count": 54,
   "id": "168022ac-a928-4730-b9bf-1056155ef2e1",
   "metadata": {},
   "outputs": [],
   "source": [
    "simhash_value_3 = Simhash(sen3, f=128)"
   ]
  },
  {
   "cell_type": "code",
   "execution_count": 55,
   "id": "5871c653-4a36-4f4a-8491-46d8553709c4",
   "metadata": {},
   "outputs": [
    {
     "data": {
      "text/plain": [
       "268589826142889784585064620821572178455"
      ]
     },
     "execution_count": 55,
     "metadata": {},
     "output_type": "execute_result"
    }
   ],
   "source": [
    "simhash_value_3.value"
   ]
  },
  {
   "cell_type": "markdown",
   "id": "61e91fb9-116a-4aef-9997-634433a6353a",
   "metadata": {},
   "source": [
    "##### Uses Hamming Distance to calcuate difference between two hash values.\n",
    "##### Hamming distance is total number of different/non-matching bits."
   ]
  },
  {
   "cell_type": "code",
   "execution_count": 62,
   "id": "08b12986-e4b0-4f9d-8eb9-8e85192d9314",
   "metadata": {},
   "outputs": [
    {
     "data": {
      "text/plain": [
       "31"
      ]
     },
     "execution_count": 62,
     "metadata": {},
     "output_type": "execute_result"
    }
   ],
   "source": [
    "## 31 means, there are 31 non-matching bits\n",
    "dist_12 = simhash_value_1.distance(simhash_value_2)\n",
    "dist_12"
   ]
  },
  {
   "cell_type": "code",
   "execution_count": 63,
   "id": "dff60694-267d-4e4f-8b3e-88d6209d45a1",
   "metadata": {},
   "outputs": [
    {
     "data": {
      "text/plain": [
       "58"
      ]
     },
     "execution_count": 63,
     "metadata": {},
     "output_type": "execute_result"
    }
   ],
   "source": [
    "dist_13 = simhash_value_1.distance(simhash_value_3)\n",
    "dist_13"
   ]
  },
  {
   "cell_type": "markdown",
   "id": "e8fbe0ef-08b8-4d1a-ad73-42da7d35134a",
   "metadata": {},
   "source": [
    "##### Calcualating Similarity in percentage"
   ]
  },
  {
   "cell_type": "code",
   "execution_count": 64,
   "id": "3b7379c4-98d8-4518-bdc9-e058f22701a3",
   "metadata": {},
   "outputs": [
    {
     "data": {
      "text/plain": [
       "54.6875"
      ]
     },
     "execution_count": 64,
     "metadata": {},
     "output_type": "execute_result"
    }
   ],
   "source": [
    "(1 - simhash_value_1.distance(simhash_value_3)/128)*100"
   ]
  },
  {
   "cell_type": "code",
   "execution_count": 65,
   "id": "2074cb56-2054-468e-ae78-306dff035e61",
   "metadata": {},
   "outputs": [
    {
     "data": {
      "text/plain": [
       "75.78125"
      ]
     },
     "execution_count": 65,
     "metadata": {},
     "output_type": "execute_result"
    }
   ],
   "source": [
    "(1 - simhash_value_1.distance(simhash_value_2)/128)*100"
   ]
  },
  {
   "cell_type": "markdown",
   "id": "12f2ec30-a611-4f16-a5b0-eea59407cfd4",
   "metadata": {},
   "source": [
    "### MinHash"
   ]
  },
  {
   "cell_type": "code",
   "execution_count": 19,
   "id": "46f45188-12ca-4265-82d3-b3e387c7047a",
   "metadata": {},
   "outputs": [],
   "source": [
    "from datasketch import MinHash"
   ]
  },
  {
   "cell_type": "code",
   "execution_count": 20,
   "id": "8989768b-ea62-40ea-8f56-7a99fbfd6f64",
   "metadata": {},
   "outputs": [],
   "source": [
    "## By default seed is 1\n",
    "m1, m2, m3 = MinHash(), MinHash(), MinHash()"
   ]
  },
  {
   "cell_type": "code",
   "execution_count": 21,
   "id": "8d4a8ff7-f1c9-4caa-b8ef-97573060ffe4",
   "metadata": {},
   "outputs": [],
   "source": [
    "for token in sen1.split():\n",
    "    m1.update(token.encode('utf8'))"
   ]
  },
  {
   "cell_type": "code",
   "execution_count": 22,
   "id": "6868a47c-081c-4b46-b142-1d02bc7ffced",
   "metadata": {},
   "outputs": [],
   "source": [
    "for token in sen2.split():\n",
    "    m2.update(token.encode('utf8'))"
   ]
  },
  {
   "cell_type": "code",
   "execution_count": 23,
   "id": "b38004aa-c162-4765-8334-597190d67751",
   "metadata": {},
   "outputs": [
    {
     "data": {
      "text/plain": [
       "0.7109375"
      ]
     },
     "execution_count": 23,
     "metadata": {},
     "output_type": "execute_result"
    }
   ],
   "source": [
    "similarity = m1.jaccard(m2)\n",
    "similarity"
   ]
  },
  {
   "cell_type": "code",
   "execution_count": 24,
   "id": "efc44e86-ef1f-403c-8f97-ec9a714acd4f",
   "metadata": {},
   "outputs": [],
   "source": [
    "for token in sen3.split():\n",
    "    m3.update(token.encode('utf8'))"
   ]
  },
  {
   "cell_type": "code",
   "execution_count": 25,
   "id": "5fed1ffd-db24-451c-9cfe-240004a940e9",
   "metadata": {},
   "outputs": [
    {
     "data": {
      "text/plain": [
       "0.0546875"
      ]
     },
     "execution_count": 25,
     "metadata": {},
     "output_type": "execute_result"
    }
   ],
   "source": [
    "similarity = m1.jaccard(m3)\n",
    "similarity"
   ]
  },
  {
   "cell_type": "code",
   "execution_count": null,
   "id": "f7ca8be0-2616-4c0f-b618-00ad93ccd774",
   "metadata": {},
   "outputs": [],
   "source": []
  },
  {
   "cell_type": "code",
   "execution_count": null,
   "id": "d5f0903f-1a68-47b2-89ed-99932018b53b",
   "metadata": {},
   "outputs": [],
   "source": []
  }
 ],
 "metadata": {
  "kernelspec": {
   "display_name": "Python 3 (ipykernel)",
   "language": "python",
   "name": "python3"
  },
  "language_info": {
   "codemirror_mode": {
    "name": "ipython",
    "version": 3
   },
   "file_extension": ".py",
   "mimetype": "text/x-python",
   "name": "python",
   "nbconvert_exporter": "python",
   "pygments_lexer": "ipython3",
   "version": "3.10.13"
  }
 },
 "nbformat": 4,
 "nbformat_minor": 5
}
