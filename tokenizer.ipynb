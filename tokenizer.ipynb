{
 "cells": [
  {
   "cell_type": "code",
   "execution_count": 1,
   "id": "9aed9b51-477c-4d2b-ab9a-34ccd7865076",
   "metadata": {},
   "outputs": [],
   "source": [
    "from tokenizers import SentencePieceBPETokenizer\n",
    "from transformers import PreTrainedTokenizerFast, AutoTokenizer"
   ]
  },
  {
   "cell_type": "code",
   "execution_count": 2,
   "id": "c0fe483f-8c6b-4681-a28e-3ebca0f95d4c",
   "metadata": {},
   "outputs": [],
   "source": [
    "tokenizer_new = SentencePieceBPETokenizer()"
   ]
  },
  {
   "cell_type": "markdown",
   "id": "befb41c5-036a-4714-a5c4-a46df516769f",
   "metadata": {},
   "source": [
    "#### Training Tokenizer"
   ]
  },
  {
   "cell_type": "code",
   "execution_count": 3,
   "id": "7de2f48f-9d79-4b0f-b766-fc05ad5b8c3e",
   "metadata": {},
   "outputs": [
    {
     "name": "stdout",
     "output_type": "stream",
     "text": [
      "\n",
      "\n",
      "\n"
     ]
    }
   ],
   "source": [
    "tokenizer_new.train_from_iterator([\"Hello World, how are you doing \", \n",
    "                               \"Zoo is the best\",\n",
    "                              \"Hello how are you?\"], vocab_size=100, min_frequency = 2,\n",
    "                                 special_tokens=[\"<bos>\", \"<eos>\", \"<unk>\", \"<pad>\", \"<user>\", \"<assistant>\"])"
   ]
  },
  {
   "cell_type": "markdown",
   "id": "06fe0f94-0747-466d-9aff-d4eaa2e94d12",
   "metadata": {},
   "source": [
    "#### Wraping Tokenizer for HuggingFace Library"
   ]
  },
  {
   "cell_type": "code",
   "execution_count": 4,
   "id": "a2b90508-70ba-4330-9ec0-684a004424b8",
   "metadata": {},
   "outputs": [],
   "source": [
    "hf_tokenizer = PreTrainedTokenizerFast(\n",
    "    tokenizer_object=tokenizer_new,\n",
    "    bos_token=\"<bos>\",\n",
    "    eos_token=\"<eos>\",\n",
    "    unk_token=\"<unk>\",\n",
    "    pad_token=\"<pad>\",\n",
    "    additional_special_tokens = [\"<user>\", \"<assistant>\"],\n",
    "    padding_side=\"left\",\n",
    "    padding=True,\n",
    "    truncation_side = \"right\",\n",
    "    model_max_length=512  # You can adjust this as needed\n",
    ")"
   ]
  },
  {
   "cell_type": "markdown",
   "id": "e41f0313-cff2-42dd-b711-7424e86183a8",
   "metadata": {},
   "source": [
    "#### Saving Tokenizer"
   ]
  },
  {
   "cell_type": "code",
   "execution_count": 5,
   "id": "e5c50a32-2971-486d-b817-cac375b646da",
   "metadata": {},
   "outputs": [
    {
     "data": {
      "text/plain": [
       "('test_tokenizer/./tokenizer_config.json',\n",
       " 'test_tokenizer/./special_tokens_map.json',\n",
       " 'test_tokenizer/./tokenizer.json')"
      ]
     },
     "execution_count": 5,
     "metadata": {},
     "output_type": "execute_result"
    }
   ],
   "source": [
    "hf_tokenizer.save_pretrained(\"test_tokenizer/.\")"
   ]
  },
  {
   "cell_type": "markdown",
   "id": "a70e4430-5a4c-4ded-9888-9c433f45f49a",
   "metadata": {},
   "source": [
    "#### Testing Tokenizer"
   ]
  },
  {
   "cell_type": "code",
   "execution_count": 6,
   "id": "0cffa360-949b-4edd-be29-22d4aff3f707",
   "metadata": {},
   "outputs": [
    {
     "data": {
      "text/plain": [
       "[34, 26, 6, 41, 40, 37, 7]"
      ]
     },
     "execution_count": 6,
     "metadata": {},
     "output_type": "execute_result"
    }
   ],
   "source": [
    "encoded = hf_tokenizer.encode(\"Hey, how are you?\")\n",
    "encoded"
   ]
  },
  {
   "cell_type": "code",
   "execution_count": 7,
   "id": "93acb304-da6d-488d-b5bf-4ad7eec21f80",
   "metadata": {},
   "outputs": [
    {
     "data": {
      "text/plain": [
       "'Hey, how are you?'"
      ]
     },
     "execution_count": 7,
     "metadata": {},
     "output_type": "execute_result"
    }
   ],
   "source": [
    "hf_tokenizer.decode(encoded)"
   ]
  },
  {
   "cell_type": "code",
   "execution_count": null,
   "id": "b3c0e97a-f21b-4ce6-8c03-6577da8b82ab",
   "metadata": {},
   "outputs": [],
   "source": []
  }
 ],
 "metadata": {
  "kernelspec": {
   "display_name": "Python 3 (ipykernel)",
   "language": "python",
   "name": "python3"
  },
  "language_info": {
   "codemirror_mode": {
    "name": "ipython",
    "version": 3
   },
   "file_extension": ".py",
   "mimetype": "text/x-python",
   "name": "python",
   "nbconvert_exporter": "python",
   "pygments_lexer": "ipython3",
   "version": "3.10.13"
  }
 },
 "nbformat": 4,
 "nbformat_minor": 5
}
