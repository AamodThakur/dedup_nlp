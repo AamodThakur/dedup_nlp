{
 "cells": [
  {
   "cell_type": "code",
   "execution_count": 1,
   "id": "b2512454-eaee-437e-bdf5-214718b9a2e6",
   "metadata": {},
   "outputs": [],
   "source": [
    "import pandas as pd\n",
    "from datasketch import MinHash"
   ]
  },
  {
   "cell_type": "code",
   "execution_count": 2,
   "id": "175470ab-1deb-48d6-bf0b-feb734032f58",
   "metadata": {},
   "outputs": [
    {
     "data": {
      "text/html": [
       "<div>\n",
       "<style scoped>\n",
       "    .dataframe tbody tr th:only-of-type {\n",
       "        vertical-align: middle;\n",
       "    }\n",
       "\n",
       "    .dataframe tbody tr th {\n",
       "        vertical-align: top;\n",
       "    }\n",
       "\n",
       "    .dataframe thead th {\n",
       "        text-align: right;\n",
       "    }\n",
       "</style>\n",
       "<table border=\"1\" class=\"dataframe\">\n",
       "  <thead>\n",
       "    <tr style=\"text-align: right;\">\n",
       "      <th></th>\n",
       "      <th>id</th>\n",
       "      <th>URL</th>\n",
       "      <th>sentence</th>\n",
       "    </tr>\n",
       "  </thead>\n",
       "  <tbody>\n",
       "    <tr>\n",
       "      <th>0</th>\n",
       "      <td>1</td>\n",
       "      <td>https://en.wikinews.org/wiki/Scientists_say_ne...</td>\n",
       "      <td>On Monday, scientists from the Stanford Univer...</td>\n",
       "    </tr>\n",
       "    <tr>\n",
       "      <th>1</th>\n",
       "      <td>2</td>\n",
       "      <td>https://en.wikinews.org/wiki/Scientists_say_ne...</td>\n",
       "      <td>Lead researchers say this may bring early dete...</td>\n",
       "    </tr>\n",
       "    <tr>\n",
       "      <th>2</th>\n",
       "      <td>3</td>\n",
       "      <td>https://en.wikinews.org/wiki/Fighter_jet_crash...</td>\n",
       "      <td>The JAS 39C Gripen crashed onto a runway at ar...</td>\n",
       "    </tr>\n",
       "    <tr>\n",
       "      <th>3</th>\n",
       "      <td>4</td>\n",
       "      <td>https://en.wikinews.org/wiki/Fighter_jet_crash...</td>\n",
       "      <td>The pilot was identified as Squadron Leader Di...</td>\n",
       "    </tr>\n",
       "    <tr>\n",
       "      <th>4</th>\n",
       "      <td>5</td>\n",
       "      <td>https://en.wikinews.org/wiki/Fighter_jet_crash...</td>\n",
       "      <td>Local media reports an airport fire vehicle ro...</td>\n",
       "    </tr>\n",
       "  </tbody>\n",
       "</table>\n",
       "</div>"
      ],
      "text/plain": [
       "   id                                                URL  \\\n",
       "0   1  https://en.wikinews.org/wiki/Scientists_say_ne...   \n",
       "1   2  https://en.wikinews.org/wiki/Scientists_say_ne...   \n",
       "2   3  https://en.wikinews.org/wiki/Fighter_jet_crash...   \n",
       "3   4  https://en.wikinews.org/wiki/Fighter_jet_crash...   \n",
       "4   5  https://en.wikinews.org/wiki/Fighter_jet_crash...   \n",
       "\n",
       "                                            sentence  \n",
       "0  On Monday, scientists from the Stanford Univer...  \n",
       "1  Lead researchers say this may bring early dete...  \n",
       "2  The JAS 39C Gripen crashed onto a runway at ar...  \n",
       "3  The pilot was identified as Squadron Leader Di...  \n",
       "4  Local media reports an airport fire vehicle ro...  "
      ]
     },
     "execution_count": 2,
     "metadata": {},
     "output_type": "execute_result"
    }
   ],
   "source": [
    "df = pd.read_csv(\"dataset_1.csv\")\n",
    "df.head()"
   ]
  },
  {
   "cell_type": "code",
   "execution_count": 3,
   "id": "2c31988a-c5e5-4a20-9b8c-57adcbbf9364",
   "metadata": {},
   "outputs": [
    {
     "data": {
      "text/html": [
       "<div>\n",
       "<style scoped>\n",
       "    .dataframe tbody tr th:only-of-type {\n",
       "        vertical-align: middle;\n",
       "    }\n",
       "\n",
       "    .dataframe tbody tr th {\n",
       "        vertical-align: top;\n",
       "    }\n",
       "\n",
       "    .dataframe thead th {\n",
       "        text-align: right;\n",
       "    }\n",
       "</style>\n",
       "<table border=\"1\" class=\"dataframe\">\n",
       "  <thead>\n",
       "    <tr style=\"text-align: right;\">\n",
       "      <th></th>\n",
       "      <th>id</th>\n",
       "      <th>URL</th>\n",
       "      <th>sentence</th>\n",
       "      <th>hash</th>\n",
       "    </tr>\n",
       "  </thead>\n",
       "  <tbody>\n",
       "    <tr>\n",
       "      <th>0</th>\n",
       "      <td>1</td>\n",
       "      <td>https://en.wikinews.org/wiki/Scientists_say_ne...</td>\n",
       "      <td>On Monday, scientists from the Stanford Univer...</td>\n",
       "      <td>NA</td>\n",
       "    </tr>\n",
       "    <tr>\n",
       "      <th>1</th>\n",
       "      <td>2</td>\n",
       "      <td>https://en.wikinews.org/wiki/Scientists_say_ne...</td>\n",
       "      <td>Lead researchers say this may bring early dete...</td>\n",
       "      <td>NA</td>\n",
       "    </tr>\n",
       "    <tr>\n",
       "      <th>2</th>\n",
       "      <td>3</td>\n",
       "      <td>https://en.wikinews.org/wiki/Fighter_jet_crash...</td>\n",
       "      <td>The JAS 39C Gripen crashed onto a runway at ar...</td>\n",
       "      <td>NA</td>\n",
       "    </tr>\n",
       "    <tr>\n",
       "      <th>3</th>\n",
       "      <td>4</td>\n",
       "      <td>https://en.wikinews.org/wiki/Fighter_jet_crash...</td>\n",
       "      <td>The pilot was identified as Squadron Leader Di...</td>\n",
       "      <td>NA</td>\n",
       "    </tr>\n",
       "    <tr>\n",
       "      <th>4</th>\n",
       "      <td>5</td>\n",
       "      <td>https://en.wikinews.org/wiki/Fighter_jet_crash...</td>\n",
       "      <td>Local media reports an airport fire vehicle ro...</td>\n",
       "      <td>NA</td>\n",
       "    </tr>\n",
       "  </tbody>\n",
       "</table>\n",
       "</div>"
      ],
      "text/plain": [
       "   id                                                URL  \\\n",
       "0   1  https://en.wikinews.org/wiki/Scientists_say_ne...   \n",
       "1   2  https://en.wikinews.org/wiki/Scientists_say_ne...   \n",
       "2   3  https://en.wikinews.org/wiki/Fighter_jet_crash...   \n",
       "3   4  https://en.wikinews.org/wiki/Fighter_jet_crash...   \n",
       "4   5  https://en.wikinews.org/wiki/Fighter_jet_crash...   \n",
       "\n",
       "                                            sentence hash  \n",
       "0  On Monday, scientists from the Stanford Univer...   NA  \n",
       "1  Lead researchers say this may bring early dete...   NA  \n",
       "2  The JAS 39C Gripen crashed onto a runway at ar...   NA  \n",
       "3  The pilot was identified as Squadron Leader Di...   NA  \n",
       "4  Local media reports an airport fire vehicle ro...   NA  "
      ]
     },
     "execution_count": 3,
     "metadata": {},
     "output_type": "execute_result"
    }
   ],
   "source": [
    "df[\"hash\"] = \"NA\"\n",
    "df.head()"
   ]
  },
  {
   "cell_type": "code",
   "execution_count": 14,
   "id": "8ce5bdcd-9175-4ca3-a84f-1d8df59b1cb1",
   "metadata": {},
   "outputs": [],
   "source": [
    "### Write your code here\n",
    "\n",
    "\n",
    "\n"
   ]
  },
  {
   "cell_type": "code",
   "execution_count": 5,
   "id": "21e8d3e9-5e5a-4e3a-8900-879214487754",
   "metadata": {},
   "outputs": [
    {
     "data": {
      "text/html": [
       "<div>\n",
       "<style scoped>\n",
       "    .dataframe tbody tr th:only-of-type {\n",
       "        vertical-align: middle;\n",
       "    }\n",
       "\n",
       "    .dataframe tbody tr th {\n",
       "        vertical-align: top;\n",
       "    }\n",
       "\n",
       "    .dataframe thead th {\n",
       "        text-align: right;\n",
       "    }\n",
       "</style>\n",
       "<table border=\"1\" class=\"dataframe\">\n",
       "  <thead>\n",
       "    <tr style=\"text-align: right;\">\n",
       "      <th></th>\n",
       "      <th>id</th>\n",
       "      <th>URL</th>\n",
       "      <th>sentence</th>\n",
       "      <th>hash</th>\n",
       "    </tr>\n",
       "  </thead>\n",
       "  <tbody>\n",
       "    <tr>\n",
       "      <th>0</th>\n",
       "      <td>1</td>\n",
       "      <td>https://en.wikinews.org/wiki/Scientists_say_ne...</td>\n",
       "      <td>On Monday, scientists from the Stanford Univer...</td>\n",
       "      <td>&lt;datasketch.minhash.MinHash object at 0x7f959c...</td>\n",
       "    </tr>\n",
       "    <tr>\n",
       "      <th>1</th>\n",
       "      <td>2</td>\n",
       "      <td>https://en.wikinews.org/wiki/Scientists_say_ne...</td>\n",
       "      <td>Lead researchers say this may bring early dete...</td>\n",
       "      <td>&lt;datasketch.minhash.MinHash object at 0x7f959c...</td>\n",
       "    </tr>\n",
       "    <tr>\n",
       "      <th>2</th>\n",
       "      <td>3</td>\n",
       "      <td>https://en.wikinews.org/wiki/Fighter_jet_crash...</td>\n",
       "      <td>The JAS 39C Gripen crashed onto a runway at ar...</td>\n",
       "      <td>&lt;datasketch.minhash.MinHash object at 0x7f959c...</td>\n",
       "    </tr>\n",
       "    <tr>\n",
       "      <th>3</th>\n",
       "      <td>4</td>\n",
       "      <td>https://en.wikinews.org/wiki/Fighter_jet_crash...</td>\n",
       "      <td>The pilot was identified as Squadron Leader Di...</td>\n",
       "      <td>&lt;datasketch.minhash.MinHash object at 0x7f959c...</td>\n",
       "    </tr>\n",
       "    <tr>\n",
       "      <th>4</th>\n",
       "      <td>5</td>\n",
       "      <td>https://en.wikinews.org/wiki/Fighter_jet_crash...</td>\n",
       "      <td>Local media reports an airport fire vehicle ro...</td>\n",
       "      <td>&lt;datasketch.minhash.MinHash object at 0x7f9714...</td>\n",
       "    </tr>\n",
       "  </tbody>\n",
       "</table>\n",
       "</div>"
      ],
      "text/plain": [
       "   id                                                URL  \\\n",
       "0   1  https://en.wikinews.org/wiki/Scientists_say_ne...   \n",
       "1   2  https://en.wikinews.org/wiki/Scientists_say_ne...   \n",
       "2   3  https://en.wikinews.org/wiki/Fighter_jet_crash...   \n",
       "3   4  https://en.wikinews.org/wiki/Fighter_jet_crash...   \n",
       "4   5  https://en.wikinews.org/wiki/Fighter_jet_crash...   \n",
       "\n",
       "                                            sentence  \\\n",
       "0  On Monday, scientists from the Stanford Univer...   \n",
       "1  Lead researchers say this may bring early dete...   \n",
       "2  The JAS 39C Gripen crashed onto a runway at ar...   \n",
       "3  The pilot was identified as Squadron Leader Di...   \n",
       "4  Local media reports an airport fire vehicle ro...   \n",
       "\n",
       "                                                hash  \n",
       "0  <datasketch.minhash.MinHash object at 0x7f959c...  \n",
       "1  <datasketch.minhash.MinHash object at 0x7f959c...  \n",
       "2  <datasketch.minhash.MinHash object at 0x7f959c...  \n",
       "3  <datasketch.minhash.MinHash object at 0x7f959c...  \n",
       "4  <datasketch.minhash.MinHash object at 0x7f9714...  "
      ]
     },
     "execution_count": 5,
     "metadata": {},
     "output_type": "execute_result"
    }
   ],
   "source": [
    "df.head()"
   ]
  },
  {
   "cell_type": "code",
   "execution_count": 6,
   "id": "0a52207e-a2ac-4674-bf1c-04fede03a5be",
   "metadata": {},
   "outputs": [
    {
     "data": {
      "text/plain": [
       "1000"
      ]
     },
     "execution_count": 6,
     "metadata": {},
     "output_type": "execute_result"
    }
   ],
   "source": [
    "len(df)"
   ]
  },
  {
   "cell_type": "code",
   "execution_count": 15,
   "id": "e5058f2d-7b55-4a4e-ad8a-258693e7a8ab",
   "metadata": {
    "scrolled": true
   },
   "outputs": [],
   "source": [
    "threshold = 0.2\n",
    "\n",
    "### Write your code here\n",
    "\n",
    "\n",
    "\n",
    "\n"
   ]
  },
  {
   "cell_type": "code",
   "execution_count": 12,
   "id": "1c28eea0-a35f-4bca-9fcf-959f2c3bd173",
   "metadata": {},
   "outputs": [
    {
     "data": {
      "text/plain": [
       "905"
      ]
     },
     "execution_count": 12,
     "metadata": {},
     "output_type": "execute_result"
    }
   ],
   "source": [
    "len(df)"
   ]
  },
  {
   "cell_type": "code",
   "execution_count": 13,
   "id": "6132a863-178a-4d67-a326-f65b9afdec8c",
   "metadata": {},
   "outputs": [
    {
     "data": {
      "text/html": [
       "<div>\n",
       "<style scoped>\n",
       "    .dataframe tbody tr th:only-of-type {\n",
       "        vertical-align: middle;\n",
       "    }\n",
       "\n",
       "    .dataframe tbody tr th {\n",
       "        vertical-align: top;\n",
       "    }\n",
       "\n",
       "    .dataframe thead th {\n",
       "        text-align: right;\n",
       "    }\n",
       "</style>\n",
       "<table border=\"1\" class=\"dataframe\">\n",
       "  <thead>\n",
       "    <tr style=\"text-align: right;\">\n",
       "      <th></th>\n",
       "      <th>id</th>\n",
       "      <th>URL</th>\n",
       "      <th>sentence</th>\n",
       "      <th>hash</th>\n",
       "    </tr>\n",
       "  </thead>\n",
       "  <tbody>\n",
       "    <tr>\n",
       "      <th>0</th>\n",
       "      <td>1</td>\n",
       "      <td>https://en.wikinews.org/wiki/Scientists_say_ne...</td>\n",
       "      <td>On Monday, scientists from the Stanford Univer...</td>\n",
       "      <td>&lt;datasketch.minhash.MinHash object at 0x7f959c...</td>\n",
       "    </tr>\n",
       "    <tr>\n",
       "      <th>1</th>\n",
       "      <td>2</td>\n",
       "      <td>https://en.wikinews.org/wiki/Scientists_say_ne...</td>\n",
       "      <td>Lead researchers say this may bring early dete...</td>\n",
       "      <td>&lt;datasketch.minhash.MinHash object at 0x7f959c...</td>\n",
       "    </tr>\n",
       "    <tr>\n",
       "      <th>2</th>\n",
       "      <td>3</td>\n",
       "      <td>https://en.wikinews.org/wiki/Fighter_jet_crash...</td>\n",
       "      <td>The JAS 39C Gripen crashed onto a runway at ar...</td>\n",
       "      <td>&lt;datasketch.minhash.MinHash object at 0x7f959c...</td>\n",
       "    </tr>\n",
       "    <tr>\n",
       "      <th>3</th>\n",
       "      <td>4</td>\n",
       "      <td>https://en.wikinews.org/wiki/Fighter_jet_crash...</td>\n",
       "      <td>The pilot was identified as Squadron Leader Di...</td>\n",
       "      <td>&lt;datasketch.minhash.MinHash object at 0x7f959c...</td>\n",
       "    </tr>\n",
       "    <tr>\n",
       "      <th>4</th>\n",
       "      <td>5</td>\n",
       "      <td>https://en.wikinews.org/wiki/Fighter_jet_crash...</td>\n",
       "      <td>Local media reports an airport fire vehicle ro...</td>\n",
       "      <td>&lt;datasketch.minhash.MinHash object at 0x7f9714...</td>\n",
       "    </tr>\n",
       "  </tbody>\n",
       "</table>\n",
       "</div>"
      ],
      "text/plain": [
       "   id                                                URL  \\\n",
       "0   1  https://en.wikinews.org/wiki/Scientists_say_ne...   \n",
       "1   2  https://en.wikinews.org/wiki/Scientists_say_ne...   \n",
       "2   3  https://en.wikinews.org/wiki/Fighter_jet_crash...   \n",
       "3   4  https://en.wikinews.org/wiki/Fighter_jet_crash...   \n",
       "4   5  https://en.wikinews.org/wiki/Fighter_jet_crash...   \n",
       "\n",
       "                                            sentence  \\\n",
       "0  On Monday, scientists from the Stanford Univer...   \n",
       "1  Lead researchers say this may bring early dete...   \n",
       "2  The JAS 39C Gripen crashed onto a runway at ar...   \n",
       "3  The pilot was identified as Squadron Leader Di...   \n",
       "4  Local media reports an airport fire vehicle ro...   \n",
       "\n",
       "                                                hash  \n",
       "0  <datasketch.minhash.MinHash object at 0x7f959c...  \n",
       "1  <datasketch.minhash.MinHash object at 0x7f959c...  \n",
       "2  <datasketch.minhash.MinHash object at 0x7f959c...  \n",
       "3  <datasketch.minhash.MinHash object at 0x7f959c...  \n",
       "4  <datasketch.minhash.MinHash object at 0x7f9714...  "
      ]
     },
     "execution_count": 13,
     "metadata": {},
     "output_type": "execute_result"
    }
   ],
   "source": [
    "df.head()"
   ]
  },
  {
   "cell_type": "code",
   "execution_count": null,
   "id": "22830f18-8205-44c0-bac7-d1fdaacf7d3a",
   "metadata": {},
   "outputs": [],
   "source": []
  }
 ],
 "metadata": {
  "kernelspec": {
   "display_name": "Python 3 (ipykernel)",
   "language": "python",
   "name": "python3"
  },
  "language_info": {
   "codemirror_mode": {
    "name": "ipython",
    "version": 3
   },
   "file_extension": ".py",
   "mimetype": "text/x-python",
   "name": "python",
   "nbconvert_exporter": "python",
   "pygments_lexer": "ipython3",
   "version": "3.10.13"
  }
 },
 "nbformat": 4,
 "nbformat_minor": 5
}
